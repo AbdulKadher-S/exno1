{
  "cells": [
    {
      "cell_type": "code",
      "execution_count": null,
      "metadata": {
        "id": "2n5hINjQjg0I"
      },
      "outputs": [],
      "source": [
        "import pandas as pd"
      ]
    },
    {
      "cell_type": "code",
      "execution_count": null,
      "metadata": {
        "id": "ekd2--UNjzBH"
      },
      "outputs": [],
      "source": [
        "file_path = \"SAMPLEIDS.csv\"\n",
        "df = pd.read_csv(file_path)\n"
      ]
    },
    {
      "cell_type": "code",
      "execution_count": null,
      "metadata": {
        "id": "aO664SaXj_Kh"
      },
      "outputs": [],
      "source": [
        "df.head()\n",
        "print(\"Dataset Info:\")\n",
        "df.info()\n"
      ]
    },
    {
      "cell_type": "code",
      "execution_count": null,
      "metadata": {
        "id": "TEJVe1oJkTOn"
      },
      "outputs": [],
      "source": [
        "print(\"\\nNull values\")\n",
        "print(df.isnull())"
      ]
    },
    {
      "cell_type": "code",
      "execution_count": null,
      "metadata": {
        "id": "lrWtOZnOkbLw"
      },
      "outputs": [],
      "source": [
        "print(\"\\nMissing Values per Column:\")\n",
        "print(df.isnull().sum())"
      ]
    },
    {
      "cell_type": "code",
      "execution_count": null,
      "metadata": {
        "id": "x6UvnVeqk-FU"
      },
      "outputs": [],
      "source": [
        "print(\"\\nDropping null values\")\n",
        "print(df.dropna())"
      ]
    },
    {
      "cell_type": "code",
      "execution_count": null,
      "metadata": {
        "id": "uD30INvylADq"
      },
      "outputs": [],
      "source": [
        "df_constant=df.fillna(0)\n",
        "print(df_constant.head(()))"
      ]
    },
    {
      "cell_type": "code",
      "execution_count": null,
      "metadata": {
        "id": "ElyTR_kMlKN_"
      },
      "outputs": [],
      "source": [
        "df_ffill= df.fillna(method='ffill')\n",
        "df_bfill= df.fillna(method='bfill')\n",
        "print(df_ffill)\n",
        "print(df_bfill)"
      ]
    },
    {
      "cell_type": "code",
      "execution_count": null,
      "metadata": {
        "id": "J3j5JMTPlpMs"
      },
      "outputs": [],
      "source": [
        "mean_value=df['age'.mean()]\n",
        "df_mean=df.fillna({'age':mean_value})"
      ]
    },
    {
      "cell_type": "code",
      "execution_count": null,
      "metadata": {
        "id": "DDfELIRflWsN"
      },
      "outputs": [],
      "source": [
        "df_cleaned=df.dropna()\n",
        "print(df_cleaned)"
      ]
    },
    {
      "cell_type": "code",
      "execution_count": null,
      "metadata": {
        "id": "iSh4e4qhlxKX"
      },
      "outputs": [],
      "source": [
        "import pandas as pd\n",
        "import seaborn as sns"
      ]
    },
    {
      "cell_type": "code",
      "execution_count": null,
      "metadata": {
        "id": "06nuEZyumfvO"
      },
      "outputs": [],
      "source": [
        "age=[1,3,28,27,25,92,30,39,40,50,26,24,29,94]\n",
        "af=pd.DataFrame(age)\n",
        "af"
      ]
    },
    {
      "cell_type": "code",
      "execution_count": null,
      "metadata": {
        "id": "WjmFpMJOmkcg"
      },
      "outputs": [],
      "source": [
        "age = [1,3,28,27,25,92,30,39,40,50,26,24,29,94]\n",
        "af = pd.DataFrame(age, columns=['age'])\n",
        "\n",
        "plt.boxplot(af['age'])\n",
        "plt.title(\"Boxplot - Detect Outliers\")\n",
        "plt.show()\n",
        "\n"
      ]
    },
    {
      "cell_type": "code",
      "execution_count": null,
      "metadata": {
        "id": "ORTl2Iv5muIV"
      },
      "outputs": [],
      "source": [
        "Q1 = af['age'].quantile(0.25)\n",
        "Q3 = af['age'].quantile(0.75)\n",
        "IQR = Q3 - Q1\n",
        "\n",
        "lower_limit = Q1 - 1.5 * IQR\n",
        "upper_limit = Q3 + 1.5 * IQR\n",
        "\n",
        "af_iqr_removed = af[(af['age'] >= lower_limit) & (af['age'] <= upper_limit)]\n",
        "\n",
        "plt.boxplot(af_iqr_removed['age'])\n",
        "plt.title(\"Boxplot After Removing Outliers (IQR Method)\")\n",
        "plt.show()\n"
      ]
    },
    {
      "cell_type": "code",
      "execution_count": null,
      "metadata": {
        "id": "wGJfyBhQm1_C"
      },
      "outputs": [],
      "source": [
        "plt.show()"
      ]
    },
    {
      "cell_type": "code",
      "execution_count": null,
      "metadata": {
        "id": "uo-X2gZ9nCXz"
      },
      "outputs": [],
      "source": [
        "from scipy import stats\n",
        "\n",
        "z_scores = np.abs(stats.zscore(af))\n",
        "af_z_removed = af[(z_scores < 3).all(axis=1)]\n",
        "\n",
        "plt.boxplot(af_z_removed['age'])\n",
        "plt.title(\"Boxplot After Removing Outliers (Z-Score Method)\")\n",
        "plt.show()\n",
        "\n"
      ]
    },
    {
      "cell_type": "code",
      "execution_count": null,
      "metadata": {
        "id": "0Qs-5pjBnstE"
      },
      "outputs": [],
      "source": [
        "from scipy import stats #STATS METHOD IS USED TO IMPLEMENT Z SCORE METHOD"
      ]
    },
    {
      "cell_type": "code",
      "execution_count": null,
      "metadata": {
        "id": "hfmvZRVEnOJ4"
      },
      "outputs": [],
      "source": [
        "data=[1,12,15,18,21,24,27,30,33,36,39,42,45,48,51,54,57,60,63,66,69,72,75,78,81,84,87,90,93,96,99,158]\n",
        "df=pd.DataFrame(data)"
      ]
    },
    {
      "cell_type": "code",
      "execution_count": null,
      "metadata": {
        "id": "pdGFPLTTnOvd"
      },
      "outputs": [],
      "source": [
        "data = [1,12,15,18,21,24,27,30,33,36,39,42,45,48,51,54,57,60,63,66,69,72,75,78,81,84,87,90,93,96,99,158]\n",
        "df2 = pd.DataFrame(data, columns=['data'])\n",
        "\n",
        "plt.boxplot(df2['data'])\n",
        "plt.title(\"Initial Boxplot - Outlier Detection\")\n",
        "plt.show()\n"
      ]
    },
    {
      "cell_type": "code",
      "execution_count": null,
      "metadata": {
        "id": "-11Af00_nTT-"
      },
      "outputs": [],
      "source": [
        "z_scores2 = np.abs(stats.zscore(df2))\n",
        "df2_z_removed = df2[(z_scores2 < 3).all(axis=1)]\n",
        "\n",
        "plt.boxplot(df2_z_removed['data'])\n",
        "plt.title(\"Boxplot After Z-Score Outlier Removal\")\n",
        "plt.show()\n"
      ]
    },
    {
      "cell_type": "code",
      "execution_count": null,
      "metadata": {
        "id": "1XlGC0YZnWth"
      },
      "outputs": [],
      "source": [
        "plt.show()"
      ]
    },
    {
      "cell_type": "code",
      "execution_count": null,
      "metadata": {
        "id": "xHlAQ3O5ncsp"
      },
      "outputs": [],
      "source": [
        "plt.show()"
      ]
    }
  ],
  "metadata": {
    "colab": {
      "provenance": []
    },
    "kernelspec": {
      "display_name": "Python 3",
      "name": "python3"
    },
    "language_info": {
      "name": "python"
    }
  },
  "nbformat": 4,
  "nbformat_minor": 0
}
